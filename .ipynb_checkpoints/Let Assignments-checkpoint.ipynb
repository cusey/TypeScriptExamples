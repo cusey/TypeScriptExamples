{
 "cells": [
  {
   "cell_type": "markdown",
   "metadata": {},
   "source": [
    "Variables in JavaScript are function scoped.This is because { does not create a new variable scope. \n",
    "The variable x1 is the same inside the if block as it is outside the if block. This is a common source\n",
    "of errors in JavaScript programming."
   ]
  },
  {
   "cell_type": "code",
   "execution_count": 1,
   "metadata": {},
   "outputs": [
    {
     "name": "stdout",
     "output_type": "stream",
     "text": [
      "Using the var : 456\n"
     ]
    }
   ],
   "source": [
    "var x1 = 123;\n",
    "if (true) {\n",
    "    var x1 = 456;\n",
    "}\n",
    "console.log('Using the var : ' + x1); // 456"
   ]
  },
  {
   "cell_type": "code",
   "execution_count": null,
   "metadata": {},
   "outputs": [],
   "source": []
  }
 ],
 "metadata": {
  "kernelspec": {
   "display_name": "Javascript (Node.js)",
   "language": "javascript",
   "name": "javascript"
  },
  "language_info": {
   "file_extension": ".js",
   "mimetype": "application/javascript",
   "name": "javascript",
   "version": "9.9.0"
  }
 },
 "nbformat": 4,
 "nbformat_minor": 2
}
