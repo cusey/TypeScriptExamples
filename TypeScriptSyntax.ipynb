{
 "cells": [
  {
   "cell_type": "markdown",
   "metadata": {},
   "source": [
    "# Let Assignment"
   ]
  },
  {
   "cell_type": "markdown",
   "metadata": {},
   "source": [
    "Variables in JavaScript are function scoped.This is because { does not create a new variable scope. \n",
    "The variable x1 is the same inside the if block as it is outside the if block. This is a common source\n",
    "of errors in JavaScript programming."
   ]
  },
  {
   "cell_type": "code",
   "execution_count": 2,
   "metadata": {},
   "outputs": [
    {
     "name": "stdout",
     "output_type": "stream",
     "text": [
      "Using the var : 456\n"
     ]
    },
    {
     "data": {
      "text/plain": [
       "undefined"
      ]
     },
     "execution_count": 2,
     "metadata": {},
     "output_type": "execute_result"
    }
   ],
   "source": [
    "var x1 = 123;\n",
    "if (true) {\n",
    "    var x1 = 456;\n",
    "}\n",
    "console.log('Using the var : ' + x1); // 456"
   ]
  },
  {
   "cell_type": "markdown",
   "metadata": {},
   "source": [
    "This is a common source of errors in JavaScript programming. This is why TypeScript (and ES6) introduces\n",
    " the let keyword to allow you to define variables with true block scope. That is if you use let instead \n",
    " of var you get a true unique element disconnected from what you might have defined outside the scope. \n",
    " The same example is demonstrated with let:"
   ]
  },
  {
   "cell_type": "code",
   "execution_count": 3,
   "metadata": {},
   "outputs": [
    {
     "name": "stdout",
     "output_type": "stream",
     "text": [
      "Using the let : 123\n"
     ]
    },
    {
     "data": {
      "text/plain": [
       "undefined"
      ]
     },
     "execution_count": 3,
     "metadata": {},
     "output_type": "execute_result"
    }
   ],
   "source": [
    "let x2 = 123;\n",
    "if (true) {\n",
    "    let x2 = 456;\n",
    "}\n",
    "console.log('Using the let : ' + x2); // 123"
   ]
  },
  {
   "cell_type": "markdown",
   "metadata": {},
   "source": [
    "Another place where let would save you from errors is loops."
   ]
  },
  {
   "cell_type": "code",
   "execution_count": 4,
   "metadata": {},
   "outputs": [
    {
     "name": "stdout",
     "output_type": "stream",
     "text": [
      "1\n",
      "2\n",
      "3\n",
      "0\n"
     ]
    },
    {
     "data": {
      "text/plain": [
       "undefined"
      ]
     },
     "execution_count": 4,
     "metadata": {},
     "output_type": "execute_result"
    }
   ],
   "source": [
    "var index = 0;\n",
    "var array = [1, 2, 3];\n",
    "for (let index = 0; index < array.length; index++) {\n",
    "    console.log(array[index]);\n",
    "}\n",
    "console.log(index); // 0"
   ]
  },
  {
   "cell_type": "markdown",
   "metadata": {},
   "source": [
    "# Type annotations"
   ]
  },
  {
   "cell_type": "code",
   "execution_count": 9,
   "metadata": {},
   "outputs": [
    {
     "name": "stdout",
     "output_type": "stream",
     "text": [
      "e[2] = 3\n"
     ]
    },
    {
     "data": {
      "text/plain": [
       "undefined"
      ]
     },
     "execution_count": 9,
     "metadata": {},
     "output_type": "execute_result"
    }
   ],
   "source": [
    "let a: number;\n",
    "let b: boolean;\n",
    "let c:string;\n",
    "let d:any;\n",
    "let e:number[] = [1,2,3];\n",
    "let f: any[] = [1, true, 'a', false];\n",
    "\n",
    "console.log('e[2] = '+ e[2]);"
   ]
  },
  {
   "cell_type": "markdown",
   "metadata": {},
   "source": [
    "## Emunerate"
   ]
  },
  {
   "cell_type": "code",
   "execution_count": 15,
   "metadata": {},
   "outputs": [
    {
     "name": "stdout",
     "output_type": "stream",
     "text": [
      "background = 0\n",
      "titleColor = 1\n"
     ]
    },
    {
     "data": {
      "text/plain": [
       "undefined"
      ]
     },
     "execution_count": 15,
     "metadata": {},
     "output_type": "execute_result"
    }
   ],
   "source": [
    "let Color = {};\n",
    "\n",
    "enum Color { Red = 0, Green = 1, Blue = 2, Purple = 3 };\n",
    "\n",
    "let backgroundColor = Color.Red;\n",
    "\n",
    "console.log('background = ' + backgroundColor );\n",
    "\n",
    "let titleColor = Color.Green;\n",
    "\n",
    "console.log('titleColor = ' + titleColor );"
   ]
  },
  {
   "cell_type": "code",
   "execution_count": null,
   "metadata": {},
   "outputs": [],
   "source": []
  },
  {
   "cell_type": "code",
   "execution_count": null,
   "metadata": {},
   "outputs": [],
   "source": []
  }
 ],
 "metadata": {
  "kernelspec": {
   "display_name": "Typescript 2.9",
   "language": "typescript",
   "name": "typescript"
  },
  "language_info": {
   "file_extension": ".ts",
   "mimetype": "text/x-typescript",
   "name": "typescript",
   "version": "2.9.2"
  }
 },
 "nbformat": 4,
 "nbformat_minor": 2
}
